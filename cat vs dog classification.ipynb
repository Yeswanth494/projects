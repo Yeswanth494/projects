{
 "cells": [
  {
   "cell_type": "code",
   "execution_count": null,
   "id": "e9109366-ecd5-4e50-80bb-2816bead78b7",
   "metadata": {},
   "outputs": [],
   "source": [
    "!pip install kaggle"
   ]
  },
  {
   "cell_type": "code",
   "execution_count": null,
   "id": "df0dc29b-3ff7-4ed3-930d-e716cb1e448e",
   "metadata": {},
   "outputs": [],
   "source": [
    "!mkdir -p ~/.kaggle\n",
    "!cp kaggle.json ~/.kaggle/\n",
    "!chmod 600 ~/.kaggle/kaggle.json"
   ]
  },
  {
   "cell_type": "code",
   "execution_count": null,
   "id": "d574ca3a-e1b5-4d5a-af4e-18101707efe5",
   "metadata": {},
   "outputs": [],
   "source": [
    "!kaggle competitions download -c dogs-vs-cats"
   ]
  },
  {
   "cell_type": "code",
   "execution_count": null,
   "id": "c62bf316-6cd6-43be-bb85-5b880a5ba7ab",
   "metadata": {},
   "outputs": [],
   "source": [
    "#extracting dataset\n",
    "from zipfile import ZipFile\n",
    "\n",
    "dataset = '/content/dogs-vs-cats.zip'\n",
    "\n",
    "with ZipFile(dataset, 'r') as zip:\n",
    "  zip.extractall()\n",
    "  print('The dataset is extracted')"
   ]
  },
  {
   "cell_type": "code",
   "execution_count": null,
   "id": "b463987d-dbe1-46c1-95d1-1069bc38fa73",
   "metadata": {},
   "outputs": [],
   "source": [
    "import os\n",
    "# counting the number of files in train folder\n",
    "path, dirs, files = next(os.walk('/content/train'))\n",
    "file_count = len(files)\n",
    "print('Number of images: ', file_count)"
   ]
  },
  {
   "cell_type": "code",
   "execution_count": null,
   "id": "de03ab14-de51-4063-884a-a0fa2443a613",
   "metadata": {},
   "outputs": [],
   "source": [
    "import numpy as np\n",
    "from PIL import Image\n",
    "import matplotlib.pyplot as plt\n",
    "import matplotlib.image as mpimg\n",
    "from sklearn.model_selection import train_test_split\n",
    "from google.colab.patches import cv2_imshow"
   ]
  },
  {
   "cell_type": "code",
   "execution_count": null,
   "id": "b3938ffe-a660-4bfd-86b9-f4c7fc36bc06",
   "metadata": {},
   "outputs": [],
   "source": [
    "# display dog image\n",
    "img = mpimg.imread('/content/train/dog.8298.jpg')\n",
    "imgplt = plt.imshow(img)\n",
    "plt.show()"
   ]
  },
  {
   "cell_type": "code",
   "execution_count": null,
   "id": "02fcc025-3879-491f-84d4-be76ecd8ef2e",
   "metadata": {},
   "outputs": [],
   "source": [
    "# display cat image\n",
    "img = mpimg.imread('/content/train/cat.4352.jpg')\n",
    "imgplt = plt.imshow(img)\n",
    "plt.show()"
   ]
  },
  {
   "cell_type": "code",
   "execution_count": null,
   "id": "f65dab5f-da09-40dd-8467-782bce15c22b",
   "metadata": {},
   "outputs": [],
   "source": [
    "file_names = os.listdir('/content/train/')\n",
    "\n",
    "for i in range(5):\n",
    "\n",
    "  name = file_names[i]\n",
    "  print(name[0:3])\n"
   ]
  },
  {
   "cell_type": "code",
   "execution_count": null,
   "id": "da7af5a8-2d97-4135-9787-eb86a5170ae8",
   "metadata": {},
   "outputs": [],
   "source": [
    "file_names = os.listdir('/content/train/')\n",
    "\n",
    "dog_count = 0\n",
    "cat_count = 0\n",
    "\n",
    "for img_file in file_names:\n",
    "\n",
    "  name = img_file[0:3]\n",
    "\n",
    "  if name == 'dog':\n",
    "    dog_count += 1\n",
    "\n",
    "  else:\n",
    "    cat_count += 1\n",
    "\n",
    "print('Number of dog images =', dog_count)\n",
    "print('Number of cat images =', cat_count)"
   ]
  },
  {
   "cell_type": "code",
   "execution_count": null,
   "id": "1ed5a6a0-6452-48df-afaa-4f17730a0e9b",
   "metadata": {},
   "outputs": [],
   "source": [
    "#creating a directory for resized images\n",
    "os.mkdir('/content/image resized')"
   ]
  },
  {
   "cell_type": "code",
   "execution_count": null,
   "id": "d4adaa2f-e2cf-4f8c-aa23-d40d894bc298",
   "metadata": {},
   "outputs": [],
   "source": [
    "original_folder = '/content/train/'\n",
    "resized_folder = '/content/image resized/'\n",
    "\n",
    "for i in range(2000):\n",
    "\n",
    "  filename = os.listdir(original_folder)[i]\n",
    "  img_path = original_folder+filename\n",
    "\n",
    "  img = Image.open(img_path)\n",
    "  img = img.resize((224, 224))\n",
    "  img = img.convert('RGB')\n",
    "\n",
    "  newImgPath = resized_folder+filename\n",
    "  img.save(newImgPath)"
   ]
  },
  {
   "cell_type": "code",
   "execution_count": null,
   "id": "4d48c758-acd9-4b51-98d7-e8a12f11b990",
   "metadata": {},
   "outputs": [],
   "source": [
    "# display dog image\n",
    "img = mpimg.imread('/content/train/dog.8298.jpg')\n",
    "imgplt = plt.imshow(img)\n",
    "plt.show()"
   ]
  },
  {
   "cell_type": "code",
   "execution_count": null,
   "id": "0b51cea0-6729-4d9f-9ac1-598de881897f",
   "metadata": {},
   "outputs": [],
   "source": [
    "# display cat image\n",
    "img = mpimg.imread('/content/train/cat.4352.jpg')\n",
    "imgplt = plt.imshow(img)\n",
    "plt.show()"
   ]
  },
  {
   "cell_type": "code",
   "execution_count": null,
   "id": "ec1d1ff9-35be-4ef3-9faf-8b92110bd3c9",
   "metadata": {},
   "outputs": [],
   "source": [
    "# creaing a for loop to assign labels\n",
    "filenames = os.listdir('/content/image resized/')\n",
    "\n",
    "\n",
    "labels = []\n",
    "\n",
    "for i in range(2000):\n",
    "\n",
    "  file_name = filenames[i]\n",
    "  label = file_name[0:3]\n",
    "\n",
    "  if label == 'dog':\n",
    "    labels.append(1)\n",
    "\n",
    "  else:\n",
    "    labels.append(0)"
   ]
  },
  {
   "cell_type": "code",
   "execution_count": null,
   "id": "7dafec7c-40f5-4994-ab01-5dfa74203b9c",
   "metadata": {},
   "outputs": [],
   "source": [
    "print(filenames[0:5])\n",
    "print(len(filenames))"
   ]
  },
  {
   "cell_type": "code",
   "execution_count": null,
   "id": "dec9a0c8-ea0e-4d1f-b744-9507a9e24096",
   "metadata": {},
   "outputs": [],
   "source": [
    "import cv2\n",
    "import glob"
   ]
  },
  {
   "cell_type": "code",
   "execution_count": null,
   "id": "6af67725-ddae-4bca-8b3a-d7038d56bcd7",
   "metadata": {},
   "outputs": [],
   "source": [
    "image_directory = '/content/image resized/'\n",
    "image_extension = ['png', 'jpg']\n",
    "\n",
    "files = []\n",
    "\n",
    "[files.extend(glob.glob(image_directory + '*.' + e)) for e in image_extension]\n",
    "\n",
    "dog_cat_images = np.asarray([cv2.imread(file) for file in files])"
   ]
  },
  {
   "cell_type": "code",
   "execution_count": null,
   "id": "1f2fa265-ffcf-42fa-992e-bbe6127066ea",
   "metadata": {},
   "outputs": [],
   "source": [
    "print(dog_cat_images)"
   ]
  },
  {
   "cell_type": "code",
   "execution_count": null,
   "id": "d16f70ca-b57d-48c4-a80b-7624ac4db41f",
   "metadata": {},
   "outputs": [],
   "source": [
    "type(dog_cat_images)"
   ]
  },
  {
   "cell_type": "code",
   "execution_count": null,
   "id": "cdd16de4-f2ba-48d1-9f81-dc57f0e4313d",
   "metadata": {},
   "outputs": [],
   "source": [
    "print(dog_cat_images.shape)"
   ]
  },
  {
   "cell_type": "code",
   "execution_count": null,
   "id": "741a7662-26f8-44fb-9c96-f7852979765c",
   "metadata": {},
   "outputs": [],
   "source": [
    "X = dog_cat_images\n",
    "Y = np.asarray(labels)"
   ]
  },
  {
   "cell_type": "code",
   "execution_count": null,
   "id": "eba3dab1-65c4-4f55-9740-2d61b36429b9",
   "metadata": {},
   "outputs": [],
   "source": [
    "X_train, X_test, Y_train, Y_test = train_test_split(X, Y, test_size=0.2, random_state=2)"
   ]
  },
  {
   "cell_type": "code",
   "execution_count": null,
   "id": "8f1ee15f-f18f-4f4d-9e6e-9ff9832eed0e",
   "metadata": {},
   "outputs": [],
   "source": [
    "print(X.shape, X_train.shape, X_test.shape)"
   ]
  },
  {
   "cell_type": "code",
   "execution_count": null,
   "id": "2eb7f6d5-f342-4284-8d8e-7841cde7e304",
   "metadata": {},
   "outputs": [],
   "source": [
    "# scaling the data\n",
    "X_train_scaled = X_train/255\n",
    "\n",
    "X_test_scaled = X_test/255"
   ]
  },
  {
   "cell_type": "code",
   "execution_count": null,
   "id": "27494af8-ea33-4423-b7d2-10f312c2e8cc",
   "metadata": {},
   "outputs": [],
   "source": [
    "print(X_train_scaled)"
   ]
  },
  {
   "cell_type": "code",
   "execution_count": null,
   "id": "53f32667-ca66-4d12-ab32-0fd04040f326",
   "metadata": {},
   "outputs": [],
   "source": [
    "#building the neural network\n",
    "import tensorflow as tf\n",
    "\n",
    "# Assuming pretrained_model is defined or loaded\n",
    "pretrained_model = tf.keras.applications.MobileNetV2(weights='imagenet', include_top=False, input_shape=(224, 224, 3))  # Example of pretrained model\n",
    "\n",
    "num_of_classes = 2\n",
    "\n",
    "# Build the model by adding the pretrained model and a dense layer\n",
    "model = tf.keras.Sequential([\n",
    "    pretrained_model,\n",
    "    tf.keras.layers.GlobalAveragePooling2D(),  # Typically needed for output from convolutional layers\n",
    "    tf.keras.layers.Dense(num_of_classes, activation='softmax')  # Or 'sigmoid' if you're using binary classification\n",
    "])\n",
    "\n",
    "# Summarize the model\n",
    "model.summary()\n"
   ]
  },
  {
   "cell_type": "code",
   "execution_count": null,
   "id": "ef91194b-d05e-4245-a4f8-15999cdd9ece",
   "metadata": {},
   "outputs": [],
   "source": [
    "model.compile(\n",
    "    optimizer = 'adam',\n",
    "    loss = tf.keras.losses.SparseCategoricalCrossentropy(from_logits=True),\n",
    "    metrics = ['acc']\n",
    ")"
   ]
  },
  {
   "cell_type": "code",
   "execution_count": null,
   "id": "d458b973-6fb9-41a8-9d43-906ce551b43f",
   "metadata": {},
   "outputs": [],
   "source": [
    "model.fit(X_train_scaled, Y_train, epochs=5)"
   ]
  },
  {
   "cell_type": "code",
   "execution_count": null,
   "id": "f2183a07-012c-4713-80d7-06f931260130",
   "metadata": {},
   "outputs": [],
   "source": [
    "score, acc = model.evaluate(X_test_scaled, Y_test)\n",
    "print('Test Loss =', score)\n",
    "print('Test Accuracy =', acc)"
   ]
  },
  {
   "cell_type": "code",
   "execution_count": null,
   "id": "dbf4185f-c755-4ee7-b8df-9f6282eb6724",
   "metadata": {},
   "outputs": [],
   "source": [
    "input_image_path = input('Path of the image to be predicted: ')\n",
    "\n",
    "input_image = cv2.imread(input_image_path)\n",
    "\n",
    "cv2_imshow(input_image)\n",
    "\n",
    "input_image_resize = cv2.resize(input_image, (224,224))\n",
    "\n",
    "input_image_scaled = input_image_resize/255\n",
    "\n",
    "image_reshaped = np.reshape(input_image_scaled, [1,224,224,3])\n",
    "\n",
    "input_prediction = model.predict(image_reshaped)\n",
    "\n",
    "print(input_prediction)\n",
    "\n",
    "input_pred_label = np.argmax(input_prediction)\n",
    "\n",
    "print(input_pred_label)\n",
    "\n",
    "if input_pred_label == 0:\n",
    "  print('The image represents a Cat')\n",
    "\n",
    "else:\n",
    "  print('The image represents a Dog')"
   ]
  },
  {
   "cell_type": "code",
   "execution_count": null,
   "id": "c30ea7ae-e661-4873-8795-4dc794acd0a7",
   "metadata": {},
   "outputs": [],
   "source": [
    "input_image_path = input('Path of the image to be predicted: ')\n",
    "\n",
    "input_image = cv2.imread(input_image_path)\n",
    "\n",
    "cv2_imshow(input_image)\n",
    "\n",
    "input_image_resize = cv2.resize(input_image, (224,224))\n",
    "\n",
    "input_image_scaled = input_image_resize/255\n",
    "\n",
    "image_reshaped = np.reshape(input_image_scaled, [1,224,224,3])\n",
    "\n",
    "input_prediction = model.predict(image_reshaped)\n",
    "\n",
    "print(input_prediction)\n",
    "\n",
    "input_pred_label = np.argmax(input_prediction)\n",
    "\n",
    "print(input_pred_label)\n",
    "\n",
    "if input_pred_label == 0:\n",
    "  print('The image represents a Cat')\n",
    "\n",
    "else:\n",
    "  print('The image represents a Dog')"
   ]
  },
  {
   "cell_type": "code",
   "execution_count": null,
   "id": "978ccf30-8cd5-4cb3-9a4d-5b3260c084b0",
   "metadata": {},
   "outputs": [],
   "source": [
    "# Train the model and store the history\n",
    "history = model.fit(X_train_scaled, Y_train, epochs=5)\n"
   ]
  }
 ],
 "metadata": {
  "kernelspec": {
   "display_name": "Python [conda env:base] *",
   "language": "python",
   "name": "conda-base-py"
  },
  "language_info": {
   "codemirror_mode": {
    "name": "ipython",
    "version": 3
   },
   "file_extension": ".py",
   "mimetype": "text/x-python",
   "name": "python",
   "nbconvert_exporter": "python",
   "pygments_lexer": "ipython3",
   "version": "3.13.5"
  }
 },
 "nbformat": 4,
 "nbformat_minor": 5
}
